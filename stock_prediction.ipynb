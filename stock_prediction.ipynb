{
 "cells": [
  {
   "cell_type": "code",
   "execution_count": 1,
   "id": "51bad430",
   "metadata": {
    "tags": []
   },
   "outputs": [],
   "source": [
    "import pandas as pd\n",
    "import matplotlib.pyplot as plt"
   ]
  },
  {
   "cell_type": "code",
   "execution_count": 3,
   "id": "d9bf54e5",
   "metadata": {
    "tags": []
   },
   "outputs": [
    {
     "data": {
      "text/html": [
       "<div>\n",
       "<style scoped>\n",
       "    .dataframe tbody tr th:only-of-type {\n",
       "        vertical-align: middle;\n",
       "    }\n",
       "\n",
       "    .dataframe tbody tr th {\n",
       "        vertical-align: top;\n",
       "    }\n",
       "\n",
       "    .dataframe thead th {\n",
       "        text-align: right;\n",
       "    }\n",
       "</style>\n",
       "<table border=\"1\" class=\"dataframe\">\n",
       "  <thead>\n",
       "    <tr style=\"text-align: right;\">\n",
       "      <th></th>\n",
       "      <th>Date</th>\n",
       "      <th>Open</th>\n",
       "      <th>High</th>\n",
       "      <th>Low</th>\n",
       "      <th>Close</th>\n",
       "      <th>Adj Close</th>\n",
       "      <th>Volume</th>\n",
       "    </tr>\n",
       "  </thead>\n",
       "  <tbody>\n",
       "    <tr>\n",
       "      <th>0</th>\n",
       "      <td>1999-01-22</td>\n",
       "      <td>0.437500</td>\n",
       "      <td>0.488281</td>\n",
       "      <td>0.388021</td>\n",
       "      <td>0.410156</td>\n",
       "      <td>0.376358</td>\n",
       "      <td>271468800</td>\n",
       "    </tr>\n",
       "    <tr>\n",
       "      <th>1</th>\n",
       "      <td>1999-01-25</td>\n",
       "      <td>0.442708</td>\n",
       "      <td>0.458333</td>\n",
       "      <td>0.410156</td>\n",
       "      <td>0.453125</td>\n",
       "      <td>0.415786</td>\n",
       "      <td>51048000</td>\n",
       "    </tr>\n",
       "    <tr>\n",
       "      <th>2</th>\n",
       "      <td>1999-01-26</td>\n",
       "      <td>0.458333</td>\n",
       "      <td>0.467448</td>\n",
       "      <td>0.411458</td>\n",
       "      <td>0.417969</td>\n",
       "      <td>0.383527</td>\n",
       "      <td>34320000</td>\n",
       "    </tr>\n",
       "    <tr>\n",
       "      <th>3</th>\n",
       "      <td>1999-01-27</td>\n",
       "      <td>0.419271</td>\n",
       "      <td>0.429688</td>\n",
       "      <td>0.395833</td>\n",
       "      <td>0.416667</td>\n",
       "      <td>0.382332</td>\n",
       "      <td>24436800</td>\n",
       "    </tr>\n",
       "    <tr>\n",
       "      <th>4</th>\n",
       "      <td>1999-01-28</td>\n",
       "      <td>0.416667</td>\n",
       "      <td>0.419271</td>\n",
       "      <td>0.412760</td>\n",
       "      <td>0.415365</td>\n",
       "      <td>0.381137</td>\n",
       "      <td>22752000</td>\n",
       "    </tr>\n",
       "    <tr>\n",
       "      <th>...</th>\n",
       "      <td>...</td>\n",
       "      <td>...</td>\n",
       "      <td>...</td>\n",
       "      <td>...</td>\n",
       "      <td>...</td>\n",
       "      <td>...</td>\n",
       "      <td>...</td>\n",
       "    </tr>\n",
       "    <tr>\n",
       "      <th>6117</th>\n",
       "      <td>2023-05-15</td>\n",
       "      <td>285.079987</td>\n",
       "      <td>289.690002</td>\n",
       "      <td>281.519989</td>\n",
       "      <td>289.529999</td>\n",
       "      <td>289.529999</td>\n",
       "      <td>29392600</td>\n",
       "    </tr>\n",
       "    <tr>\n",
       "      <th>6118</th>\n",
       "      <td>2023-05-16</td>\n",
       "      <td>288.410004</td>\n",
       "      <td>298.700012</td>\n",
       "      <td>288.320007</td>\n",
       "      <td>292.130005</td>\n",
       "      <td>292.130005</td>\n",
       "      <td>44940500</td>\n",
       "    </tr>\n",
       "    <tr>\n",
       "      <th>6119</th>\n",
       "      <td>2023-05-17</td>\n",
       "      <td>295.839996</td>\n",
       "      <td>301.989990</td>\n",
       "      <td>294.299988</td>\n",
       "      <td>301.779999</td>\n",
       "      <td>301.779999</td>\n",
       "      <td>43253500</td>\n",
       "    </tr>\n",
       "    <tr>\n",
       "      <th>6120</th>\n",
       "      <td>2023-05-18</td>\n",
       "      <td>304.100006</td>\n",
       "      <td>318.279999</td>\n",
       "      <td>303.200012</td>\n",
       "      <td>316.779999</td>\n",
       "      <td>316.779999</td>\n",
       "      <td>74872500</td>\n",
       "    </tr>\n",
       "    <tr>\n",
       "      <th>6121</th>\n",
       "      <td>2023-05-19</td>\n",
       "      <td>315.359985</td>\n",
       "      <td>315.799988</td>\n",
       "      <td>309.160004</td>\n",
       "      <td>312.640015</td>\n",
       "      <td>312.640015</td>\n",
       "      <td>47312400</td>\n",
       "    </tr>\n",
       "  </tbody>\n",
       "</table>\n",
       "<p>6122 rows × 7 columns</p>\n",
       "</div>"
      ],
      "text/plain": [
       "            Date        Open        High         Low       Close   Adj Close  \\\n",
       "0     1999-01-22    0.437500    0.488281    0.388021    0.410156    0.376358   \n",
       "1     1999-01-25    0.442708    0.458333    0.410156    0.453125    0.415786   \n",
       "2     1999-01-26    0.458333    0.467448    0.411458    0.417969    0.383527   \n",
       "3     1999-01-27    0.419271    0.429688    0.395833    0.416667    0.382332   \n",
       "4     1999-01-28    0.416667    0.419271    0.412760    0.415365    0.381137   \n",
       "...          ...         ...         ...         ...         ...         ...   \n",
       "6117  2023-05-15  285.079987  289.690002  281.519989  289.529999  289.529999   \n",
       "6118  2023-05-16  288.410004  298.700012  288.320007  292.130005  292.130005   \n",
       "6119  2023-05-17  295.839996  301.989990  294.299988  301.779999  301.779999   \n",
       "6120  2023-05-18  304.100006  318.279999  303.200012  316.779999  316.779999   \n",
       "6121  2023-05-19  315.359985  315.799988  309.160004  312.640015  312.640015   \n",
       "\n",
       "         Volume  \n",
       "0     271468800  \n",
       "1      51048000  \n",
       "2      34320000  \n",
       "3      24436800  \n",
       "4      22752000  \n",
       "...         ...  \n",
       "6117   29392600  \n",
       "6118   44940500  \n",
       "6119   43253500  \n",
       "6120   74872500  \n",
       "6121   47312400  \n",
       "\n",
       "[6122 rows x 7 columns]"
      ]
     },
     "execution_count": 3,
     "metadata": {},
     "output_type": "execute_result"
    }
   ],
   "source": [
    "df = pd.read_csv('NVDA.csv')\n",
    "df"
   ]
  },
  {
   "cell_type": "code",
   "execution_count": 5,
   "id": "aa0d5582-f228-4e44-b2a2-73a1449ecb80",
   "metadata": {
    "tags": []
   },
   "outputs": [
    {
     "data": {
      "text/plain": [
       "Date         0\n",
       "Open         0\n",
       "High         0\n",
       "Low          0\n",
       "Close        0\n",
       "Adj Close    0\n",
       "Volume       0\n",
       "dtype: int64"
      ]
     },
     "execution_count": 5,
     "metadata": {},
     "output_type": "execute_result"
    }
   ],
   "source": [
    "df.isnull().sum()"
   ]
  },
  {
   "cell_type": "code",
   "execution_count": 7,
   "id": "1f00c445",
   "metadata": {},
   "outputs": [],
   "source": [
    "df.set_index('Date', inplace=True)"
   ]
  },
  {
   "cell_type": "code",
   "execution_count": 9,
   "id": "ca363d29",
   "metadata": {},
   "outputs": [
    {
     "data": {
      "text/plain": [
       "<Axes: xlabel='Date'>"
      ]
     },
     "execution_count": 9,
     "metadata": {},
     "output_type": "execute_result"
    },
    {
     "data": {
      "image/png": "[encoded data removed]",
      "text/plain": [
       "<Figure size 640x480 with 1 Axes>"
      ]
     },
     "metadata": {},
     "output_type": "display_data"
    }
   ],
   "source": [
    "df.plot.line(y=\"Close\", use_index=True)"
   ]
  },
  {
   "cell_type": "code",
   "execution_count": 11,
   "id": "a10e5fa1",
   "metadata": {},
   "outputs": [],
   "source": [
    "df[\"Tomorrow\"]= df[\"Close\"].shift(-1)"
   ]
  },
  {
   "cell_type": "code",
   "execution_count": 13,
   "id": "ef1119e1",
   "metadata": {},
   "outputs": [
    {
     "data": {
      "text/html": [
       "<div>\n",
       "<style scoped>\n",
       "    .dataframe tbody tr th:only-of-type {\n",
       "        vertical-align: middle;\n",
       "    }\n",
       "\n",
       "    .dataframe tbody tr th {\n",
       "        vertical-align: top;\n",
       "    }\n",
       "\n",
       "    .dataframe thead th {\n",
       "        text-align: right;\n",
       "    }\n",
       "</style>\n",
       "<table border=\"1\" class=\"dataframe\">\n",
       "  <thead>\n",
       "    <tr style=\"text-align: right;\">\n",
       "      <th></th>\n",
       "      <th>Open</th>\n",
       "      <th>High</th>\n",
       "      <th>Low</th>\n",
       "      <th>Close</th>\n",
       "      <th>Adj Close</th>\n",
       "      <th>Volume</th>\n",
       "      <th>Tomorrow</th>\n",
       "    </tr>\n",
       "    <tr>\n",
       "      <th>Date</th>\n",
       "      <th></th>\n",
       "      <th></th>\n",
       "      <th></th>\n",
       "      <th></th>\n",
       "      <th></th>\n",
       "      <th></th>\n",
       "      <th></th>\n",
       "    </tr>\n",
       "  </thead>\n",
       "  <tbody>\n",
       "    <tr>\n",
       "      <th>1999-01-22</th>\n",
       "      <td>0.437500</td>\n",
       "      <td>0.488281</td>\n",
       "      <td>0.388021</td>\n",
       "      <td>0.410156</td>\n",
       "      <td>0.376358</td>\n",
       "      <td>271468800</td>\n",
       "      <td>0.453125</td>\n",
       "    </tr>\n",
       "    <tr>\n",
       "      <th>1999-01-25</th>\n",
       "      <td>0.442708</td>\n",
       "      <td>0.458333</td>\n",
       "      <td>0.410156</td>\n",
       "      <td>0.453125</td>\n",
       "      <td>0.415786</td>\n",
       "      <td>51048000</td>\n",
       "      <td>0.417969</td>\n",
       "    </tr>\n",
       "    <tr>\n",
       "      <th>1999-01-26</th>\n",
       "      <td>0.458333</td>\n",
       "      <td>0.467448</td>\n",
       "      <td>0.411458</td>\n",
       "      <td>0.417969</td>\n",
       "      <td>0.383527</td>\n",
       "      <td>34320000</td>\n",
       "      <td>0.416667</td>\n",
       "    </tr>\n",
       "    <tr>\n",
       "      <th>1999-01-27</th>\n",
       "      <td>0.419271</td>\n",
       "      <td>0.429688</td>\n",
       "      <td>0.395833</td>\n",
       "      <td>0.416667</td>\n",
       "      <td>0.382332</td>\n",
       "      <td>24436800</td>\n",
       "      <td>0.415365</td>\n",
       "    </tr>\n",
       "    <tr>\n",
       "      <th>1999-01-28</th>\n",
       "      <td>0.416667</td>\n",
       "      <td>0.419271</td>\n",
       "      <td>0.412760</td>\n",
       "      <td>0.415365</td>\n",
       "      <td>0.381137</td>\n",
       "      <td>22752000</td>\n",
       "      <td>0.395833</td>\n",
       "    </tr>\n",
       "    <tr>\n",
       "      <th>...</th>\n",
       "      <td>...</td>\n",
       "      <td>...</td>\n",
       "      <td>...</td>\n",
       "      <td>...</td>\n",
       "      <td>...</td>\n",
       "      <td>...</td>\n",
       "      <td>...</td>\n",
       "    </tr>\n",
       "    <tr>\n",
       "      <th>2023-05-15</th>\n",
       "      <td>285.079987</td>\n",
       "      <td>289.690002</td>\n",
       "      <td>281.519989</td>\n",
       "      <td>289.529999</td>\n",
       "      <td>289.529999</td>\n",
       "      <td>29392600</td>\n",
       "      <td>292.130005</td>\n",
       "    </tr>\n",
       "    <tr>\n",
       "      <th>2023-05-16</th>\n",
       "      <td>288.410004</td>\n",
       "      <td>298.700012</td>\n",
       "      <td>288.320007</td>\n",
       "      <td>292.130005</td>\n",
       "      <td>292.130005</td>\n",
       "      <td>44940500</td>\n",
       "      <td>301.779999</td>\n",
       "    </tr>\n",
       "    <tr>\n",
       "      <th>2023-05-17</th>\n",
       "      <td>295.839996</td>\n",
       "      <td>301.989990</td>\n",
       "      <td>294.299988</td>\n",
       "      <td>301.779999</td>\n",
       "      <td>301.779999</td>\n",
       "      <td>43253500</td>\n",
       "      <td>316.779999</td>\n",
       "    </tr>\n",
       "    <tr>\n",
       "      <th>2023-05-18</th>\n",
       "      <td>304.100006</td>\n",
       "      <td>318.279999</td>\n",
       "      <td>303.200012</td>\n",
       "      <td>316.779999</td>\n",
       "      <td>316.779999</td>\n",
       "      <td>74872500</td>\n",
       "      <td>312.640015</td>\n",
       "    </tr>\n",
       "    <tr>\n",
       "      <th>2023-05-19</th>\n",
       "      <td>315.359985</td>\n",
       "      <td>315.799988</td>\n",
       "      <td>309.160004</td>\n",
       "      <td>312.640015</td>\n",
       "      <td>312.640015</td>\n",
       "      <td>47312400</td>\n",
       "      <td>NaN</td>\n",
       "    </tr>\n",
       "  </tbody>\n",
       "</table>\n",
       "<p>6122 rows × 7 columns</p>\n",
       "</div>"
      ],
      "text/plain": [
       "                  Open        High         Low       Close   Adj Close  \\\n",
       "Date                                                                     \n",
       "1999-01-22    0.437500    0.488281    0.388021    0.410156    0.376358   \n",
       "1999-01-25    0.442708    0.458333    0.410156    0.453125    0.415786   \n",
       "1999-01-26    0.458333    0.467448    0.411458    0.417969    0.383527   \n",
       "1999-01-27    0.419271    0.429688    0.395833    0.416667    0.382332   \n",
       "1999-01-28    0.416667    0.419271    0.412760    0.415365    0.381137   \n",
       "...                ...         ...         ...         ...         ...   \n",
       "2023-05-15  285.079987  289.690002  281.519989  289.529999  289.529999   \n",
       "2023-05-16  288.410004  298.700012  288.320007  292.130005  292.130005   \n",
       "2023-05-17  295.839996  301.989990  294.299988  301.779999  301.779999   \n",
       "2023-05-18  304.100006  318.279999  303.200012  316.779999  316.779999   \n",
       "2023-05-19  315.359985  315.799988  309.160004  312.640015  312.640015   \n",
       "\n",
       "               Volume    Tomorrow  \n",
       "Date                               \n",
       "1999-01-22  271468800    0.453125  \n",
       "1999-01-25   51048000    0.417969  \n",
       "1999-01-26   34320000    0.416667  \n",
       "1999-01-27   24436800    0.415365  \n",
       "1999-01-28   22752000    0.395833  \n",
       "...               ...         ...  \n",
       "2023-05-15   29392600  292.130005  \n",
       "2023-05-16   44940500  301.779999  \n",
       "2023-05-17   43253500  316.779999  \n",
       "2023-05-18   74872500  312.640015  \n",
       "2023-05-19   47312400         NaN  \n",
       "\n",
       "[6122 rows x 7 columns]"
      ]
     },
     "execution_count": 13,
     "metadata": {},
     "output_type": "execute_result"
    }
   ],
   "source": [
    "df"
   ]
  },
  {
   "cell_type": "code",
   "execution_count": 15,
   "id": "14372c29",
   "metadata": {},
   "outputs": [],
   "source": [
    "df[\"Target\"] = (df[\"Tomorrow\"] > df[\"Close\"]).astype(int)"
   ]
  },
  {
   "cell_type": "code",
   "execution_count": 17,
   "id": "963d6532",
   "metadata": {},
   "outputs": [
    {
     "data": {
      "text/html": [
       "<div>\n",
       "<style scoped>\n",
       "    .dataframe tbody tr th:only-of-type {\n",
       "        vertical-align: middle;\n",
       "    }\n",
       "\n",
       "    .dataframe tbody tr th {\n",
       "        vertical-align: top;\n",
       "    }\n",
       "\n",
       "    .dataframe thead th {\n",
       "        text-align: right;\n",
       "    }\n",
       "</style>\n",
       "<table border=\"1\" class=\"dataframe\">\n",
       "  <thead>\n",
       "    <tr style=\"text-align: right;\">\n",
       "      <th></th>\n",
       "      <th>Open</th>\n",
       "      <th>High</th>\n",
       "      <th>Low</th>\n",
       "      <th>Close</th>\n",
       "      <th>Adj Close</th>\n",
       "      <th>Volume</th>\n",
       "      <th>Tomorrow</th>\n",
       "      <th>Target</th>\n",
       "    </tr>\n",
       "    <tr>\n",
       "      <th>Date</th>\n",
       "      <th></th>\n",
       "      <th></th>\n",
       "      <th></th>\n",
       "      <th></th>\n",
       "      <th></th>\n",
       "      <th></th>\n",
       "      <th></th>\n",
       "      <th></th>\n",
       "    </tr>\n",
       "  </thead>\n",
       "  <tbody>\n",
       "    <tr>\n",
       "      <th>1999-01-22</th>\n",
       "      <td>0.437500</td>\n",
       "      <td>0.488281</td>\n",
       "      <td>0.388021</td>\n",
       "      <td>0.410156</td>\n",
       "      <td>0.376358</td>\n",
       "      <td>271468800</td>\n",
       "      <td>0.453125</td>\n",
       "      <td>1</td>\n",
       "    </tr>\n",
       "    <tr>\n",
       "      <th>1999-01-25</th>\n",
       "      <td>0.442708</td>\n",
       "      <td>0.458333</td>\n",
       "      <td>0.410156</td>\n",
       "      <td>0.453125</td>\n",
       "      <td>0.415786</td>\n",
       "      <td>51048000</td>\n",
       "      <td>0.417969</td>\n",
       "      <td>0</td>\n",
       "    </tr>\n",
       "    <tr>\n",
       "      <th>1999-01-26</th>\n",
       "      <td>0.458333</td>\n",
       "      <td>0.467448</td>\n",
       "      <td>0.411458</td>\n",
       "      <td>0.417969</td>\n",
       "      <td>0.383527</td>\n",
       "      <td>34320000</td>\n",
       "      <td>0.416667</td>\n",
       "      <td>0</td>\n",
       "    </tr>\n",
       "    <tr>\n",
       "      <th>1999-01-27</th>\n",
       "      <td>0.419271</td>\n",
       "      <td>0.429688</td>\n",
       "      <td>0.395833</td>\n",
       "      <td>0.416667</td>\n",
       "      <td>0.382332</td>\n",
       "      <td>24436800</td>\n",
       "      <td>0.415365</td>\n",
       "      <td>0</td>\n",
       "    </tr>\n",
       "    <tr>\n",
       "      <th>1999-01-28</th>\n",
       "      <td>0.416667</td>\n",
       "      <td>0.419271</td>\n",
       "      <td>0.412760</td>\n",
       "      <td>0.415365</td>\n",
       "      <td>0.381137</td>\n",
       "      <td>22752000</td>\n",
       "      <td>0.395833</td>\n",
       "      <td>0</td>\n",
       "    </tr>\n",
       "    <tr>\n",
       "      <th>...</th>\n",
       "      <td>...</td>\n",
       "      <td>...</td>\n",
       "      <td>...</td>\n",
       "      <td>...</td>\n",
       "      <td>...</td>\n",
       "      <td>...</td>\n",
       "      <td>...</td>\n",
       "      <td>...</td>\n",
       "    </tr>\n",
       "    <tr>\n",
       "      <th>2023-05-15</th>\n",
       "      <td>285.079987</td>\n",
       "      <td>289.690002</td>\n",
       "      <td>281.519989</td>\n",
       "      <td>289.529999</td>\n",
       "      <td>289.529999</td>\n",
       "      <td>29392600</td>\n",
       "      <td>292.130005</td>\n",
       "      <td>1</td>\n",
       "    </tr>\n",
       "    <tr>\n",
       "      <th>2023-05-16</th>\n",
       "      <td>288.410004</td>\n",
       "      <td>298.700012</td>\n",
       "      <td>288.320007</td>\n",
       "      <td>292.130005</td>\n",
       "      <td>292.130005</td>\n",
       "      <td>44940500</td>\n",
       "      <td>301.779999</td>\n",
       "      <td>1</td>\n",
       "    </tr>\n",
       "    <tr>\n",
       "      <th>2023-05-17</th>\n",
       "      <td>295.839996</td>\n",
       "      <td>301.989990</td>\n",
       "      <td>294.299988</td>\n",
       "      <td>301.779999</td>\n",
       "      <td>301.779999</td>\n",
       "      <td>43253500</td>\n",
       "      <td>316.779999</td>\n",
       "      <td>1</td>\n",
       "    </tr>\n",
       "    <tr>\n",
       "      <th>2023-05-18</th>\n",
       "      <td>304.100006</td>\n",
       "      <td>318.279999</td>\n",
       "      <td>303.200012</td>\n",
       "      <td>316.779999</td>\n",
       "      <td>316.779999</td>\n",
       "      <td>74872500</td>\n",
       "      <td>312.640015</td>\n",
       "      <td>0</td>\n",
       "    </tr>\n",
       "    <tr>\n",
       "      <th>2023-05-19</th>\n",
       "      <td>315.359985</td>\n",
       "      <td>315.799988</td>\n",
       "      <td>309.160004</td>\n",
       "      <td>312.640015</td>\n",
       "      <td>312.640015</td>\n",
       "      <td>47312400</td>\n",
       "      <td>NaN</td>\n",
       "      <td>0</td>\n",
       "    </tr>\n",
       "  </tbody>\n",
       "</table>\n",
       "<p>6122 rows × 8 columns</p>\n",
       "</div>"
      ],
      "text/plain": [
       "                  Open        High         Low       Close   Adj Close  \\\n",
       "Date                                                                     \n",
       "1999-01-22    0.437500    0.488281    0.388021    0.410156    0.376358   \n",
       "1999-01-25    0.442708    0.458333    0.410156    0.453125    0.415786   \n",
       "1999-01-26    0.458333    0.467448    0.411458    0.417969    0.383527   \n",
       "1999-01-27    0.419271    0.429688    0.395833    0.416667    0.382332   \n",
       "1999-01-28    0.416667    0.419271    0.412760    0.415365    0.381137   \n",
       "...                ...         ...         ...         ...         ...   \n",
       "2023-05-15  285.079987  289.690002  281.519989  289.529999  289.529999   \n",
       "2023-05-16  288.410004  298.700012  288.320007  292.130005  292.130005   \n",
       "2023-05-17  295.839996  301.989990  294.299988  301.779999  301.779999   \n",
       "2023-05-18  304.100006  318.279999  303.200012  316.779999  316.779999   \n",
       "2023-05-19  315.359985  315.799988  309.160004  312.640015  312.640015   \n",
       "\n",
       "               Volume    Tomorrow  Target  \n",
       "Date                                       \n",
       "1999-01-22  271468800    0.453125       1  \n",
       "1999-01-25   51048000    0.417969       0  \n",
       "1999-01-26   34320000    0.416667       0  \n",
       "1999-01-27   24436800    0.415365       0  \n",
       "1999-01-28   22752000    0.395833       0  \n",
       "...               ...         ...     ...  \n",
       "2023-05-15   29392600  292.130005       1  \n",
       "2023-05-16   44940500  301.779999       1  \n",
       "2023-05-17   43253500  316.779999       1  \n",
       "2023-05-18   74872500  312.640015       0  \n",
       "2023-05-19   47312400         NaN       0  \n",
       "\n",
       "[6122 rows x 8 columns]"
      ]
     },
     "execution_count": 17,
     "metadata": {},
     "output_type": "execute_result"
    }
   ],
   "source": [
    "df"
   ]
  },
  {
   "cell_type": "code",
   "execution_count": 19,
   "id": "9590d938",
   "metadata": {},
   "outputs": [],
   "source": [
    "from sklearn.ensemble import RandomForestClassifier\n",
    "from sklearn.metrics import accuracy_score"
   ]
  },
  {
   "cell_type": "code",
   "execution_count": 21,
   "id": "290ec302",
   "metadata": {},
   "outputs": [
    {
     "data": {
      "text/html": [
       "<style>#sk-container-id-1 {color: black;background-color: white;}#sk-container-id-1 pre{padding: 0;}#sk-container-id-1 div.sk-toggleable {background-color: white;}#sk-container-id-1 label.sk-toggleable__label {cursor: pointer;display: block;width: 100%;margin-bottom: 0;padding: 0.3em;box-sizing: border-box;text-align: center;}#sk-container-id-1 label.sk-toggleable__label-arrow:before {content: \"▸\";float: left;margin-right: 0.25em;color: #696969;}#sk-container-id-1 label.sk-toggleable__label-arrow:hover:before {color: black;}#sk-container-id-1 div.sk-estimator:hover label.sk-toggleable__label-arrow:before {color: black;}#sk-container-id-1 div.sk-toggleable__content {max-height: 0;max-width: 0;overflow: hidden;text-align: left;background-color: #f0f8ff;}#sk-container-id-1 div.sk-toggleable__content pre {margin: 0.2em;color: black;border-radius: 0.25em;background-color: #f0f8ff;}#sk-container-id-1 input.sk-toggleable__control:checked~div.sk-toggleable__content {max-height: 200px;max-width: 100%;overflow: auto;}#sk-container-id-1 input.sk-toggleable__control:checked~label.sk-toggleable__label-arrow:before {content: \"▾\";}#sk-container-id-1 div.sk-estimator input.sk-toggleable__control:checked~label.sk-toggleable__label {background-color: #d4ebff;}#sk-container-id-1 div.sk-label input.sk-toggleable__control:checked~label.sk-toggleable__label {background-color: #d4ebff;}#sk-container-id-1 input.sk-hidden--visually {border: 0;clip: rect(1px 1px 1px 1px);clip: rect(1px, 1px, 1px, 1px);height: 1px;margin: -1px;overflow: hidden;padding: 0;position: absolute;width: 1px;}#sk-container-id-1 div.sk-estimator {font-family: monospace;background-color: #f0f8ff;border: 1px dotted black;border-radius: 0.25em;box-sizing: border-box;margin-bottom: 0.5em;}#sk-container-id-1 div.sk-estimator:hover {background-color: #d4ebff;}#sk-container-id-1 div.sk-parallel-item::after {content: \"\";width: 100%;border-bottom: 1px solid gray;flex-grow: 1;}#sk-container-id-1 div.sk-label:hover label.sk-toggleable__label {background-color: #d4ebff;}#sk-container-id-1 div.sk-serial::before {content: \"\";position: absolute;border-left: 1px solid gray;box-sizing: border-box;top: 0;bottom: 0;left: 50%;z-index: 0;}#sk-container-id-1 div.sk-serial {display: flex;flex-direction: column;align-items: center;background-color: white;padding-right: 0.2em;padding-left: 0.2em;position: relative;}#sk-container-id-1 div.sk-item {position: relative;z-index: 1;}#sk-container-id-1 div.sk-parallel {display: flex;align-items: stretch;justify-content: center;background-color: white;position: relative;}#sk-container-id-1 div.sk-item::before, #sk-container-id-1 div.sk-parallel-item::before {content: \"\";position: absolute;border-left: 1px solid gray;box-sizing: border-box;top: 0;bottom: 0;left: 50%;z-index: -1;}#sk-container-id-1 div.sk-parallel-item {display: flex;flex-direction: column;z-index: 1;position: relative;background-color: white;}#sk-container-id-1 div.sk-parallel-item:first-child::after {align-self: flex-end;width: 50%;}#sk-container-id-1 div.sk-parallel-item:last-child::after {align-self: flex-start;width: 50%;}#sk-container-id-1 div.sk-parallel-item:only-child::after {width: 0;}#sk-container-id-1 div.sk-dashed-wrapped {border: 1px dashed gray;margin: 0 0.4em 0.5em 0.4em;box-sizing: border-box;padding-bottom: 0.4em;background-color: white;}#sk-container-id-1 div.sk-label label {font-family: monospace;font-weight: bold;display: inline-block;line-height: 1.2em;}#sk-container-id-1 div.sk-label-container {text-align: center;}#sk-container-id-1 div.sk-container {/* jupyter's `normalize.less` sets `[hidden] { display: none; }` but bootstrap.min.css set `[hidden] { display: none !important; }` so we also need the `!important` here to be able to override the default hidden behavior on the sphinx rendered scikit-learn.org. See: https://github.com/scikit-learn/scikit-learn/issues/21755 */display: inline-block !important;position: relative;}#sk-container-id-1 div.sk-text-repr-fallback {display: none;}</style><div id=\"sk-container-id-1\" class=\"sk-top-container\"><div class=\"sk-text-repr-fallback\"><pre>RandomForestClassifier(min_samples_split=100, n_estimators=200, random_state=1)</pre><b>In a Jupyter environment, please rerun this cell to show the HTML representation or trust the notebook. <br />On GitHub, the HTML representation is unable to render, please try loading this page with nbviewer.org.</b></div><div class=\"sk-container\" hidden><div class=\"sk-item\"><div class=\"sk-estimator sk-toggleable\"><input class=\"sk-toggleable__control sk-hidden--visually\" id=\"sk-estimator-id-1\" type=\"checkbox\" checked><label for=\"sk-estimator-id-1\" class=\"sk-toggleable__label sk-toggleable__label-arrow\">RandomForestClassifier</label><div class=\"sk-toggleable__content\"><pre>RandomForestClassifier(min_samples_split=100, n_estimators=200, random_state=1)</pre></div></div></div></div></div>"
      ],
      "text/plain": [
       "RandomForestClassifier(min_samples_split=100, n_estimators=200, random_state=1)"
      ]
     },
     "execution_count": 21,
     "metadata": {},
     "output_type": "execute_result"
    }
   ],
   "source": [
    "#creating model\n",
    "model = RandomForestClassifier(n_estimators = 200, min_samples_split = 100, random_state = 1)\n",
    "\n",
    "#spliting data into what rows will be for testing and training \n",
    "train = df.iloc[:-100]\n",
    "test = df.iloc[-100:]\n",
    "\n",
    "#creating a list for all columns that will be used by model\n",
    "predictors = [\"Close\", \"Volume\", \"Open\", \"High\", \"Low\"]\n",
    "\n",
    "model.fit(train[predictors], train[\"Target\"])"
   ]
  },
  {
   "cell_type": "code",
   "execution_count": 23,
   "id": "706ff23c",
   "metadata": {},
   "outputs": [],
   "source": [
    "from sklearn.metrics import precision_score\n",
    "\n",
    "#measuring the preformance\n",
    "\n",
    "preds = model.predict(test[predictors])\n"
   ]
  },
  {
   "cell_type": "code",
   "execution_count": 25,
   "id": "2f4304f5",
   "metadata": {},
   "outputs": [],
   "source": [
    "preds = pd.Series(preds, index = test.index)"
   ]
  },
  {
   "cell_type": "code",
   "execution_count": 27,
   "id": "a90c447e",
   "metadata": {},
   "outputs": [
    {
     "data": {
      "text/plain": [
       "Date\n",
       "2022-12-27    1\n",
       "2022-12-28    1\n",
       "2022-12-29    1\n",
       "2022-12-30    1\n",
       "2023-01-03    1\n",
       "             ..\n",
       "2023-05-15    1\n",
       "2023-05-16    1\n",
       "2023-05-17    0\n",
       "2023-05-18    0\n",
       "2023-05-19    0\n",
       "Length: 100, dtype: int32"
      ]
     },
     "execution_count": 27,
     "metadata": {},
     "output_type": "execute_result"
    }
   ],
   "source": [
    "preds"
   ]
  },
  {
   "cell_type": "code",
   "execution_count": 29,
   "id": "78b22185",
   "metadata": {},
   "outputs": [
    {
     "data": {
      "text/plain": [
       "0.6"
      ]
     },
     "execution_count": 29,
     "metadata": {},
     "output_type": "execute_result"
    }
   ],
   "source": [
    "#calculating precsion score\n",
    "\n",
    "precision_score(test[\"Target\"], preds)"
   ]
  },
  {
   "cell_type": "code",
   "execution_count": 31,
   "id": "52c5aa9b",
   "metadata": {},
   "outputs": [],
   "source": [
    "#comparing actual values to predicted values\n",
    "\n",
    "combined = pd.concat([test[\"Target\"], preds], axis=1)"
   ]
  },
  {
   "cell_type": "code",
   "execution_count": 33,
   "id": "6a73cb9e-20ad-42a3-a8f7-4dcb876065ac",
   "metadata": {
    "tags": []
   },
   "outputs": [
    {
     "data": {
      "text/plain": [
       "<Axes: xlabel='Date'>"
      ]
     },
     "execution_count": 33,
     "metadata": {},
     "output_type": "execute_result"
    },
    {
     "data": {
      "image/png": "[encoded data removed]",
      "text/plain": [
       "<Figure size 640x480 with 1 Axes>"
      ]
     },
     "metadata": {},
     "output_type": "display_data"
    }
   ],
   "source": [
    "combined.plot()"
   ]
  },
  {
   "cell_type": "code",
   "execution_count": 35,
   "id": "b14a4529-60f5-489c-bc7d-84f43ebc0049",
   "metadata": {
    "tags": []
   },
   "outputs": [],
   "source": [
    "def predict(train, test, predictors, model):\n",
    "    model.fit(train[predictors], train[\"Target\"])\n",
    "    preds = model.predict(test[predictors])\n",
    "    preds = pd.Series(preds, index=test.index, name=\"Predictions\")\n",
    "    combined = pd.concat([test[\"Target\"], preds], axis=1)\n",
    "    return combined"
   ]
  },
  {
   "cell_type": "code",
   "execution_count": 37,
   "id": "76296bac-59dc-440b-b115-ea579cea3325",
   "metadata": {
    "tags": []
   },
   "outputs": [],
   "source": [
    "#creating backtesting system\n",
    "\n",
    "def backtest(df, model, predictors, start=2500, step=250):\n",
    "    all_predictions = []\n",
    "    \n",
    "    for  i in range(start, df.shape[0], step):\n",
    "        train = df.iloc[0:i].copy()\n",
    "        test = df.iloc[i:(i+step)].copy()\n",
    "        predictions = predict(train, test, predictors, model)\n",
    "        all_predictions.append(predictions)\n",
    "    return pd.concat(all_predictions)"
   ]
  },
  {
   "cell_type": "code",
   "execution_count": 39,
   "id": "e95a98c7-b057-4f42-95cd-4a39c057cbc4",
   "metadata": {
    "tags": []
   },
   "outputs": [],
   "source": [
    "predictions = backtest(df, model, predictors)"
   ]
  },
  {
   "cell_type": "code",
   "execution_count": 41,
   "id": "30225bba-f418-417e-a54b-ffb54f4912dd",
   "metadata": {
    "tags": []
   },
   "outputs": [
    {
     "data": {
      "text/plain": [
       "Predictions\n",
       "0    1940\n",
       "1    1682\n",
       "Name: count, dtype: int64"
      ]
     },
     "execution_count": 41,
     "metadata": {},
     "output_type": "execute_result"
    }
   ],
   "source": [
    "predictions[\"Predictions\"].value_counts()"
   ]
  },
  {
   "cell_type": "code",
   "execution_count": 43,
   "id": "0ed3d787-2c47-4991-9908-47f5933b2ba3",
   "metadata": {
    "tags": []
   },
   "outputs": [
    {
     "data": {
      "text/plain": [
       "0.6"
      ]
     },
     "execution_count": 43,
     "metadata": {},
     "output_type": "execute_result"
    }
   ],
   "source": [
    "precision_score(test[\"Target\"], preds)"
   ]
  },
  {
   "cell_type": "code",
   "execution_count": 45,
   "id": "a58d20b9-7b34-48d7-ac20-e4656ae64d74",
   "metadata": {},
   "outputs": [
    {
     "data": {
      "text/plain": [
       "Target\n",
       "1    0.527057\n",
       "0    0.472943\n",
       "Name: count, dtype: float64"
      ]
     },
     "execution_count": 45,
     "metadata": {},
     "output_type": "execute_result"
    }
   ],
   "source": [
    "predictions[\"Target\"].value_counts() / predictions.shape[0]\n",
    "\n",
    "#actually went up 52% of the time"
   ]
  },
  {
   "cell_type": "code",
   "execution_count": 53,
   "id": "4ee12699-e666-4b32-a915-439cf82da7ed",
   "metadata": {
    "tags": []
   },
   "outputs": [],
   "source": [
    "horizon = [2,5,60,250,1000] \n",
    "\n",
    "new_predictors = []\n",
    "\n",
    "for horizon in horizon:\n",
    "    rolling_averages = df.rolling(horizon).mean()\n",
    "    \n",
    "    ratio_column = f\"Close_Ratio_{horizon}\"\n",
    "    df[ratio_column] = df[\"Close\"] / rolling_averages[\"Close\"]\n",
    "    \n",
    "    trend_column = f\"Trend_{horizon}\"\n",
    "    df[trend_column] = df.shift(1).rolling(horizon).sum()[\"Target\"]\n",
    "    \n",
    "    new_predictors += [ratio_column, trend_column]"
   ]
  },
  {
   "cell_type": "code",
   "execution_count": 57,
   "id": "adbce214-fc16-4f6b-b90a-5de26bcf4798",
   "metadata": {
    "tags": []
   },
   "outputs": [],
   "source": [
    "df = df.dropna()"
   ]
  },
  {
   "cell_type": "code",
   "execution_count": 60,
   "id": "b97838e8-e937-4d93-a285-b29e6f5598d6",
   "metadata": {
    "tags": []
   },
   "outputs": [
    {
     "data": {
      "text/html": [
       "<div>\n",
       "<style scoped>\n",
       "    .dataframe tbody tr th:only-of-type {\n",
       "        vertical-align: middle;\n",
       "    }\n",
       "\n",
       "    .dataframe tbody tr th {\n",
       "        vertical-align: top;\n",
       "    }\n",
       "\n",
       "    .dataframe thead th {\n",
       "        text-align: right;\n",
       "    }\n",
       "</style>\n",
       "<table border=\"1\" class=\"dataframe\">\n",
       "  <thead>\n",
       "    <tr style=\"text-align: right;\">\n",
       "      <th></th>\n",
       "      <th>Open</th>\n",
       "      <th>High</th>\n",
       "      <th>Low</th>\n",
       "      <th>Close</th>\n",
       "      <th>Adj Close</th>\n",
       "      <th>Volume</th>\n",
       "      <th>Tomorrow</th>\n",
       "      <th>Target</th>\n",
       "      <th>Close_Ratio_2</th>\n",
       "      <th>Trend_2</th>\n",
       "      <th>Close_Ratio_5</th>\n",
       "      <th>Trend_5</th>\n",
       "      <th>Close_Ratio_60</th>\n",
       "      <th>Trend_60</th>\n",
       "      <th>Close_Ratio_250</th>\n",
       "      <th>Trend_250</th>\n",
       "      <th>Close_Ratio_1000</th>\n",
       "      <th>Trend_1000</th>\n",
       "    </tr>\n",
       "    <tr>\n",
       "      <th>Date</th>\n",
       "      <th></th>\n",
       "      <th></th>\n",
       "      <th></th>\n",
       "      <th></th>\n",
       "      <th></th>\n",
       "      <th></th>\n",
       "      <th></th>\n",
       "      <th></th>\n",
       "      <th></th>\n",
       "      <th></th>\n",
       "      <th></th>\n",
       "      <th></th>\n",
       "      <th></th>\n",
       "      <th></th>\n",
       "      <th></th>\n",
       "      <th></th>\n",
       "      <th></th>\n",
       "      <th></th>\n",
       "    </tr>\n",
       "  </thead>\n",
       "  <tbody>\n",
       "    <tr>\n",
       "      <th>2003-01-15</th>\n",
       "      <td>1.030833</td>\n",
       "      <td>1.039167</td>\n",
       "      <td>0.998333</td>\n",
       "      <td>0.998333</td>\n",
       "      <td>0.916067</td>\n",
       "      <td>90458400</td>\n",
       "      <td>0.930833</td>\n",
       "      <td>0</td>\n",
       "      <td>0.984388</td>\n",
       "      <td>1.0</td>\n",
       "      <td>0.979719</td>\n",
       "      <td>3.0</td>\n",
       "      <td>0.906374</td>\n",
       "      <td>32.0</td>\n",
       "      <td>0.453887</td>\n",
       "      <td>104.0</td>\n",
       "      <td>0.474866</td>\n",
       "      <td>470.0</td>\n",
       "    </tr>\n",
       "    <tr>\n",
       "      <th>2003-01-16</th>\n",
       "      <td>0.983333</td>\n",
       "      <td>0.995833</td>\n",
       "      <td>0.917500</td>\n",
       "      <td>0.930833</td>\n",
       "      <td>0.854129</td>\n",
       "      <td>203997600</td>\n",
       "      <td>0.895833</td>\n",
       "      <td>0</td>\n",
       "      <td>0.965011</td>\n",
       "      <td>0.0</td>\n",
       "      <td>0.928512</td>\n",
       "      <td>2.0</td>\n",
       "      <td>0.844112</td>\n",
       "      <td>31.0</td>\n",
       "      <td>0.426601</td>\n",
       "      <td>104.0</td>\n",
       "      <td>0.442659</td>\n",
       "      <td>469.0</td>\n",
       "    </tr>\n",
       "    <tr>\n",
       "      <th>2003-01-17</th>\n",
       "      <td>0.905833</td>\n",
       "      <td>0.918333</td>\n",
       "      <td>0.884167</td>\n",
       "      <td>0.895833</td>\n",
       "      <td>0.822013</td>\n",
       "      <td>105883200</td>\n",
       "      <td>0.873333</td>\n",
       "      <td>0</td>\n",
       "      <td>0.980839</td>\n",
       "      <td>0.0</td>\n",
       "      <td>0.918332</td>\n",
       "      <td>1.0</td>\n",
       "      <td>0.812209</td>\n",
       "      <td>30.0</td>\n",
       "      <td>0.413813</td>\n",
       "      <td>104.0</td>\n",
       "      <td>0.425918</td>\n",
       "      <td>469.0</td>\n",
       "    </tr>\n",
       "    <tr>\n",
       "      <th>2003-01-21</th>\n",
       "      <td>0.912500</td>\n",
       "      <td>0.931667</td>\n",
       "      <td>0.870833</td>\n",
       "      <td>0.873333</td>\n",
       "      <td>0.801367</td>\n",
       "      <td>96735600</td>\n",
       "      <td>0.874167</td>\n",
       "      <td>1</td>\n",
       "      <td>0.987282</td>\n",
       "      <td>0.0</td>\n",
       "      <td>0.923511</td>\n",
       "      <td>1.0</td>\n",
       "      <td>0.792348</td>\n",
       "      <td>29.0</td>\n",
       "      <td>0.406732</td>\n",
       "      <td>103.0</td>\n",
       "      <td>0.415130</td>\n",
       "      <td>469.0</td>\n",
       "    </tr>\n",
       "    <tr>\n",
       "      <th>2003-01-22</th>\n",
       "      <td>0.870833</td>\n",
       "      <td>0.896667</td>\n",
       "      <td>0.868333</td>\n",
       "      <td>0.874167</td>\n",
       "      <td>0.802132</td>\n",
       "      <td>55099200</td>\n",
       "      <td>0.898333</td>\n",
       "      <td>1</td>\n",
       "      <td>1.000477</td>\n",
       "      <td>1.0</td>\n",
       "      <td>0.955896</td>\n",
       "      <td>1.0</td>\n",
       "      <td>0.793075</td>\n",
       "      <td>30.0</td>\n",
       "      <td>0.410636</td>\n",
       "      <td>103.0</td>\n",
       "      <td>0.415436</td>\n",
       "      <td>470.0</td>\n",
       "    </tr>\n",
       "    <tr>\n",
       "      <th>...</th>\n",
       "      <td>...</td>\n",
       "      <td>...</td>\n",
       "      <td>...</td>\n",
       "      <td>...</td>\n",
       "      <td>...</td>\n",
       "      <td>...</td>\n",
       "      <td>...</td>\n",
       "      <td>...</td>\n",
       "      <td>...</td>\n",
       "      <td>...</td>\n",
       "      <td>...</td>\n",
       "      <td>...</td>\n",
       "      <td>...</td>\n",
       "      <td>...</td>\n",
       "      <td>...</td>\n",
       "      <td>...</td>\n",
       "      <td>...</td>\n",
       "      <td>...</td>\n",
       "    </tr>\n",
       "    <tr>\n",
       "      <th>2023-05-12</th>\n",
       "      <td>285.290009</td>\n",
       "      <td>287.799988</td>\n",
       "      <td>280.459991</td>\n",
       "      <td>283.399994</td>\n",
       "      <td>283.399994</td>\n",
       "      <td>27402700</td>\n",
       "      <td>289.529999</td>\n",
       "      <td>1</td>\n",
       "      <td>0.995819</td>\n",
       "      <td>0.0</td>\n",
       "      <td>0.987284</td>\n",
       "      <td>2.0</td>\n",
       "      <td>1.092477</td>\n",
       "      <td>33.0</td>\n",
       "      <td>1.531269</td>\n",
       "      <td>134.0</td>\n",
       "      <td>1.899527</td>\n",
       "      <td>543.0</td>\n",
       "    </tr>\n",
       "    <tr>\n",
       "      <th>2023-05-15</th>\n",
       "      <td>285.079987</td>\n",
       "      <td>289.690002</td>\n",
       "      <td>281.519989</td>\n",
       "      <td>289.529999</td>\n",
       "      <td>289.529999</td>\n",
       "      <td>29392600</td>\n",
       "      <td>292.130005</td>\n",
       "      <td>1</td>\n",
       "      <td>1.010699</td>\n",
       "      <td>1.0</td>\n",
       "      <td>1.010033</td>\n",
       "      <td>2.0</td>\n",
       "      <td>1.111145</td>\n",
       "      <td>34.0</td>\n",
       "      <td>1.560449</td>\n",
       "      <td>135.0</td>\n",
       "      <td>1.937325</td>\n",
       "      <td>544.0</td>\n",
       "    </tr>\n",
       "    <tr>\n",
       "      <th>2023-05-16</th>\n",
       "      <td>288.410004</td>\n",
       "      <td>298.700012</td>\n",
       "      <td>288.320007</td>\n",
       "      <td>292.130005</td>\n",
       "      <td>292.130005</td>\n",
       "      <td>44940500</td>\n",
       "      <td>301.779999</td>\n",
       "      <td>1</td>\n",
       "      <td>1.004470</td>\n",
       "      <td>2.0</td>\n",
       "      <td>1.014559</td>\n",
       "      <td>3.0</td>\n",
       "      <td>1.115540</td>\n",
       "      <td>35.0</td>\n",
       "      <td>1.570725</td>\n",
       "      <td>135.0</td>\n",
       "      <td>1.951376</td>\n",
       "      <td>545.0</td>\n",
       "    </tr>\n",
       "    <tr>\n",
       "      <th>2023-05-17</th>\n",
       "      <td>295.839996</td>\n",
       "      <td>301.989990</td>\n",
       "      <td>294.299988</td>\n",
       "      <td>301.779999</td>\n",
       "      <td>301.779999</td>\n",
       "      <td>43253500</td>\n",
       "      <td>316.779999</td>\n",
       "      <td>1</td>\n",
       "      <td>1.016248</td>\n",
       "      <td>2.0</td>\n",
       "      <td>1.038744</td>\n",
       "      <td>3.0</td>\n",
       "      <td>1.145448</td>\n",
       "      <td>36.0</td>\n",
       "      <td>1.618004</td>\n",
       "      <td>136.0</td>\n",
       "      <td>2.012252</td>\n",
       "      <td>546.0</td>\n",
       "    </tr>\n",
       "    <tr>\n",
       "      <th>2023-05-18</th>\n",
       "      <td>304.100006</td>\n",
       "      <td>318.279999</td>\n",
       "      <td>303.200012</td>\n",
       "      <td>316.779999</td>\n",
       "      <td>316.779999</td>\n",
       "      <td>74872500</td>\n",
       "      <td>312.640015</td>\n",
       "      <td>0</td>\n",
       "      <td>1.024250</td>\n",
       "      <td>2.0</td>\n",
       "      <td>1.067591</td>\n",
       "      <td>4.0</td>\n",
       "      <td>1.194130</td>\n",
       "      <td>36.0</td>\n",
       "      <td>1.693142</td>\n",
       "      <td>136.0</td>\n",
       "      <td>2.108306</td>\n",
       "      <td>547.0</td>\n",
       "    </tr>\n",
       "  </tbody>\n",
       "</table>\n",
       "<p>5121 rows × 18 columns</p>\n",
       "</div>"
      ],
      "text/plain": [
       "                  Open        High         Low       Close   Adj Close  \\\n",
       "Date                                                                     \n",
       "2003-01-15    1.030833    1.039167    0.998333    0.998333    0.916067   \n",
       "2003-01-16    0.983333    0.995833    0.917500    0.930833    0.854129   \n",
       "2003-01-17    0.905833    0.918333    0.884167    0.895833    0.822013   \n",
       "2003-01-21    0.912500    0.931667    0.870833    0.873333    0.801367   \n",
       "2003-01-22    0.870833    0.896667    0.868333    0.874167    0.802132   \n",
       "...                ...         ...         ...         ...         ...   \n",
       "2023-05-12  285.290009  287.799988  280.459991  283.399994  283.399994   \n",
       "2023-05-15  285.079987  289.690002  281.519989  289.529999  289.529999   \n",
       "2023-05-16  288.410004  298.700012  288.320007  292.130005  292.130005   \n",
       "2023-05-17  295.839996  301.989990  294.299988  301.779999  301.779999   \n",
       "2023-05-18  304.100006  318.279999  303.200012  316.779999  316.779999   \n",
       "\n",
       "               Volume    Tomorrow  Target  Close_Ratio_2  Trend_2  \\\n",
       "Date                                                                \n",
       "2003-01-15   90458400    0.930833       0       0.984388      1.0   \n",
       "2003-01-16  203997600    0.895833       0       0.965011      0.0   \n",
       "2003-01-17  105883200    0.873333       0       0.980839      0.0   \n",
       "2003-01-21   96735600    0.874167       1       0.987282      0.0   \n",
       "2003-01-22   55099200    0.898333       1       1.000477      1.0   \n",
       "...               ...         ...     ...            ...      ...   \n",
       "2023-05-12   27402700  289.529999       1       0.995819      0.0   \n",
       "2023-05-15   29392600  292.130005       1       1.010699      1.0   \n",
       "2023-05-16   44940500  301.779999       1       1.004470      2.0   \n",
       "2023-05-17   43253500  316.779999       1       1.016248      2.0   \n",
       "2023-05-18   74872500  312.640015       0       1.024250      2.0   \n",
       "\n",
       "            Close_Ratio_5  Trend_5  Close_Ratio_60  Trend_60  Close_Ratio_250  \\\n",
       "Date                                                                            \n",
       "2003-01-15       0.979719      3.0        0.906374      32.0         0.453887   \n",
       "2003-01-16       0.928512      2.0        0.844112      31.0         0.426601   \n",
       "2003-01-17       0.918332      1.0        0.812209      30.0         0.413813   \n",
       "2003-01-21       0.923511      1.0        0.792348      29.0         0.406732   \n",
       "2003-01-22       0.955896      1.0        0.793075      30.0         0.410636   \n",
       "...                   ...      ...             ...       ...              ...   \n",
       "2023-05-12       0.987284      2.0        1.092477      33.0         1.531269   \n",
       "2023-05-15       1.010033      2.0        1.111145      34.0         1.560449   \n",
       "2023-05-16       1.014559      3.0        1.115540      35.0         1.570725   \n",
       "2023-05-17       1.038744      3.0        1.145448      36.0         1.618004   \n",
       "2023-05-18       1.067591      4.0        1.194130      36.0         1.693142   \n",
       "\n",
       "            Trend_250  Close_Ratio_1000  Trend_1000  \n",
       "Date                                                 \n",
       "2003-01-15      104.0          0.474866       470.0  \n",
       "2003-01-16      104.0          0.442659       469.0  \n",
       "2003-01-17      104.0          0.425918       469.0  \n",
       "2003-01-21      103.0          0.415130       469.0  \n",
       "2003-01-22      103.0          0.415436       470.0  \n",
       "...               ...               ...         ...  \n",
       "2023-05-12      134.0          1.899527       543.0  \n",
       "2023-05-15      135.0          1.937325       544.0  \n",
       "2023-05-16      135.0          1.951376       545.0  \n",
       "2023-05-17      136.0          2.012252       546.0  \n",
       "2023-05-18      136.0          2.108306       547.0  \n",
       "\n",
       "[5121 rows x 18 columns]"
      ]
     },
     "execution_count": 60,
     "metadata": {},
     "output_type": "execute_result"
    }
   ],
   "source": [
    "df"
   ]
  },
  {
   "cell_type": "code",
   "execution_count": 62,
   "id": "48bc475f-ec1d-4475-869d-ed9bc232ff75",
   "metadata": {
    "tags": []
   },
   "outputs": [],
   "source": [
    "model = RandomForestClassifier(n_estimators=200, min_samples_split=50, random_state=1)"
   ]
  },
  {
   "cell_type": "code",
   "execution_count": 64,
   "id": "efad15d1-5b1f-4f53-8d0d-e2854201029d",
   "metadata": {
    "tags": []
   },
   "outputs": [],
   "source": [
    "def predict(train, test, predictors, model):\n",
    "    model.fit(train[predictors], train[\"Target\"])\n",
    "    preds = model.predict_proba(test[predictors])[:,1]\n",
    "    preds[preds >= .6] = 1\n",
    "    preds[preds < .6] = 0\n",
    "    preds = pd.Series(preds, index=test.index, name=\"Predictions\")\n",
    "    combined = pd.concat([test[\"Target\"], preds], axis=1)\n",
    "    return combined"
   ]
  },
  {
   "cell_type": "code",
   "execution_count": 66,
   "id": "28512e26-3e24-49e4-9b04-4093e7bbd494",
   "metadata": {
    "tags": []
   },
   "outputs": [],
   "source": [
    "predictions = backtest(df, model, new_predictors)"
   ]
  },
  {
   "cell_type": "code",
   "execution_count": 68,
   "id": "f29dce58-9c82-4fe3-b5ea-051348343c30",
   "metadata": {
    "tags": []
   },
   "outputs": [
    {
     "data": {
      "text/plain": [
       "Predictions\n",
       "0.0    2390\n",
       "1.0     231\n",
       "Name: count, dtype: int64"
      ]
     },
     "execution_count": 68,
     "metadata": {},
     "output_type": "execute_result"
    }
   ],
   "source": [
    "predictions[\"Predictions\"].value_counts()"
   ]
  },
  {
   "cell_type": "code",
   "execution_count": 74,
   "id": "b005d54d-5b41-4cfb-bacb-19824ac91c6f",
   "metadata": {
    "tags": []
   },
   "outputs": [
    {
     "data": {
      "text/plain": [
       "0.5714285714285714"
      ]
     },
     "execution_count": 74,
     "metadata": {},
     "output_type": "execute_result"
    }
   ],
   "source": [
    "precision_score(predictions[\"Target\"], predictions[\"Predictions\"])\n",
    "\n",
    "#model will go up 57% of the time"
   ]
  },
  {
   "cell_type": "code",
   "execution_count": null,
   "id": "155bbfb9-efeb-45ee-9624-465b6cb51295",
   "metadata": {},
   "outputs": [],
   "source": []
  }
 ],
 "metadata": {
  "kernelspec": {
   "display_name": "Python 3 (ipykernel)",
   "language": "python",
   "name": "python3"
  },
  "language_info": {
   "codemirror_mode": {
    "name": "ipython",
    "version": 3
   },
   "file_extension": ".py",
   "mimetype": "text/x-python",
   "name": "python",
   "nbconvert_exporter": "python",
   "pygments_lexer": "ipython3",
   "version": "3.11.7"
  }
 },
 "nbformat": 4,
 "nbformat_minor": 5
}
