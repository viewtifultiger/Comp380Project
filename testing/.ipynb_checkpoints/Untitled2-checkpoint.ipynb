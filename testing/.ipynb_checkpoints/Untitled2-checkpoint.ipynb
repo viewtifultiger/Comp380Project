{
 "cells": [
  {
   "cell_type": "code",
   "execution_count": null,
   "metadata": {
    "id": "ZA6N-SFPucPp"
   },
   "outputs": [],
   "source": [
    "import tensorflow as tf\n",
    "import os\n",
    "import scrapbook as sb\n"
   ]
  },
  {
   "cell_type": "code",
   "execution_count": null,
   "metadata": {
    "id": "h_9fzrYQvZz2"
   },
   "outputs": [],
   "source": [
    "sb.glue(\"Hello\", \"World!\"))"
   ]
  },
  {
   "cell_type": "markdown",
   "metadata": {
    "id": "55CxpHOoEAP6"
   },
   "source": []
  },
  {
   "cell_type": "markdown",
   "metadata": {
    "id": "zQTKjkqFXf3O"
   },
   "source": []
  }
 ],
 "metadata": {
  "colab": {
   "provenance": []
  },
  "kernelspec": {
   "display_name": "Python 3 (ipykernel)",
   "language": "python",
   "name": "python3"
  },
  "language_info": {
   "codemirror_mode": {
    "name": "ipython",
    "version": 3
   },
   "file_extension": ".py",
   "mimetype": "text/x-python",
   "name": "python",
   "nbconvert_exporter": "python",
   "pygments_lexer": "ipython3",
   "version": "3.12.3"
  }
 },
 "nbformat": 4,
 "nbformat_minor": 4
}
