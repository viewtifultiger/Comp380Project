{
 "cells": [
  {
   "cell_type": "code",
   "execution_count": 1,
   "id": "51bad430",
   "metadata": {},
   "outputs": [],
   "source": [
    "import pandas as pd\n",
    "import matplotlib.pyplot as plt"
   ]
  },
  {
   "cell_type": "code",
   "execution_count": null,
   "id": "d9bf54e5",
   "metadata": {},
   "outputs": [],
   "source": [
    "df = pd.read_csv('AMD.csv')\n",
    "df"
   ]
  },
  {
   "cell_type": "code",
   "execution_count": null,
   "id": "1f00c445",
   "metadata": {},
   "outputs": [],
   "source": [
    "df.set_index('Date', inplace=True)"
   ]
  },
  {
   "cell_type": "code",
   "execution_count": null,
   "id": "ca363d29",
   "metadata": {},
   "outputs": [],
   "source": [
    "df.plot.line(y=\"Close\", use_index=True)"
   ]
  },
  {
   "cell_type": "code",
   "execution_count": null,
   "id": "a10e5fa1",
   "metadata": {},
   "outputs": [],
   "source": [
    "df[\"Tomorrow\"]= df[\"Close\"].shift(-1)"
   ]
  },
  {
   "cell_type": "code",
   "execution_count": null,
   "id": "ef1119e1",
   "metadata": {},
   "outputs": [],
   "source": [
    "df"
   ]
  },
  {
   "cell_type": "code",
   "execution_count": null,
   "id": "14372c29",
   "metadata": {},
   "outputs": [],
   "source": [
    "df[\"Target\"] = (df[\"Tomorrow\"] > df[\"Close\"]).astype(int)"
   ]
  },
  {
   "cell_type": "code",
   "execution_count": null,
   "id": "963d6532",
   "metadata": {},
   "outputs": [],
   "source": [
    "df"
   ]
  },
  {
   "cell_type": "code",
   "execution_count": null,
   "id": "9590d938",
   "metadata": {},
   "outputs": [],
   "source": [
    "from sklearn.ensemble import RandomForestClassifier\n",
    "from sklearn.metrics import accuracy_score"
   ]
  },
  {
   "cell_type": "code",
   "execution_count": null,
   "id": "290ec302",
   "metadata": {},
   "outputs": [],
   "source": [
    "#creating model\n",
    "model = RandomForestClassifier(n_estimators = 200, min_samples_split = 100, random_state = 1)\n",
    "\n",
    "#spliting data into what rows will be for testing and training \n",
    "train = df.iloc[:-100]\n",
    "test = df.iloc[-100:]\n",
    "\n",
    "#creating a list for all columns that will be used by model\n",
    "predictors = [\"Close\", \"Volume\", \"Open\", \"High\", \"Low\"]\n",
    "\n",
    "model.fit(train[predictors], train[\"Target\"])"
   ]
  },
  {
   "cell_type": "code",
   "execution_count": null,
   "id": "706ff23c",
   "metadata": {},
   "outputs": [],
   "source": [
    "from sklearn.metrics import precision_score\n",
    "\n",
    "#measuring the preformance\n",
    "\n",
    "preds = model.predict(test[predictors])\n"
   ]
  },
  {
   "cell_type": "code",
   "execution_count": null,
   "id": "2f4304f5",
   "metadata": {},
   "outputs": [],
   "source": [
    "preds = pd.Series(preds, index = test.index)"
   ]
  },
  {
   "cell_type": "code",
   "execution_count": null,
   "id": "a90c447e",
   "metadata": {},
   "outputs": [],
   "source": [
    "preds"
   ]
  },
  {
   "cell_type": "code",
   "execution_count": null,
   "id": "78b22185",
   "metadata": {},
   "outputs": [],
   "source": [
    "#calculating precsion score\n",
    "\n",
    "precision_score(test[\"Target\"], preds)"
   ]
  },
  {
   "cell_type": "code",
   "execution_count": null,
   "id": "52c5aa9b",
   "metadata": {},
   "outputs": [],
   "source": [
    "#comparing actual values to predicted values\n",
    "\n",
    "combined = pd.concat([test[\"Target\"], preds], axis=1)"
   ]
  },
  {
   "cell_type": "code",
   "execution_count": null,
   "id": "6a73cb9e-20ad-42a3-a8f7-4dcb876065ac",
   "metadata": {
    "tags": []
   },
   "outputs": [],
   "source": [
    "combined.plot()"
   ]
  },
  {
   "cell_type": "code",
   "execution_count": null,
   "id": "b14a4529-60f5-489c-bc7d-84f43ebc0049",
   "metadata": {
    "tags": []
   },
   "outputs": [],
   "source": [
    "def predict(train, test, predictors, model):\n",
    "    model.fit(train[predictors], train[\"Target\"])\n",
    "    preds = model.predict(test[predictors])\n",
    "    preds = pd.Series(preds, index=test.index, name=\"Predictions\")\n",
    "    combined = pd.concat([test[\"Target\"], preds], axis=1)\n",
    "    return combined"
   ]
  },
  {
   "cell_type": "code",
   "execution_count": null,
   "id": "76296bac-59dc-440b-b115-ea579cea3325",
   "metadata": {
    "tags": []
   },
   "outputs": [],
   "source": [
    "#creating backtesting system\n",
    "\n",
    "def backtest(df, model, predictors, start=2500, step=250):\n",
    "    all_predictions = []\n",
    "    \n",
    "    for  i in range(start, df.shape[0], step):\n",
    "        train = df.iloc[0:i].copy()\n",
    "        test = df.iloc[i:(i+step)].copy()\n",
    "        predictions = predict(train, test, predictors, model)\n",
    "        all_predictions.append(predictions)\n",
    "    return pd.concat(all_predictions)"
   ]
  },
  {
   "cell_type": "code",
   "execution_count": null,
   "id": "e95a98c7-b057-4f42-95cd-4a39c057cbc4",
   "metadata": {
    "tags": []
   },
   "outputs": [],
   "source": [
    "predictions = backtest(df, model, predictors)"
   ]
  },
  {
   "cell_type": "code",
   "execution_count": null,
   "id": "30225bba-f418-417e-a54b-ffb54f4912dd",
   "metadata": {
    "tags": []
   },
   "outputs": [],
   "source": [
    "predictions[\"Predictions\"].value_counts()"
   ]
  },
  {
   "cell_type": "code",
   "execution_count": null,
   "id": "0ed3d787-2c47-4991-9908-47f5933b2ba3",
   "metadata": {
    "tags": []
   },
   "outputs": [],
   "source": [
    "precision_score(test[\"Target\"], preds)"
   ]
  },
  {
   "cell_type": "code",
   "execution_count": null,
   "id": "a58d20b9-7b34-48d7-ac20-e4656ae64d74",
   "metadata": {},
   "outputs": [],
   "source": []
  }
 ],
 "metadata": {
  "kernelspec": {
   "display_name": "Python 3 (ipykernel)",
   "language": "python",
   "name": "python3"
  },
  "language_info": {
   "codemirror_mode": {
    "name": "ipython",
    "version": 3
   },
   "file_extension": ".py",
   "mimetype": "text/x-python",
   "name": "python",
   "nbconvert_exporter": "python",
   "pygments_lexer": "ipython3",
   "version": "3.11.7"
  }
 },
 "nbformat": 4,
 "nbformat_minor": 5
}
