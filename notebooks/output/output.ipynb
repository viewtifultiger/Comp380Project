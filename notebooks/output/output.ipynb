{
 "cells": [
  {
   "cell_type": "code",
   "execution_count": 1,
   "id": "a9123912",
   "metadata": {
    "execution": {
     "iopub.execute_input": "2024-07-31T01:27:17.184519Z",
     "iopub.status.busy": "2024-07-31T01:27:17.184225Z",
     "iopub.status.idle": "2024-07-31T01:27:18.495983Z",
     "shell.execute_reply": "2024-07-31T01:27:18.495604Z"
    },
    "id": "ZA6N-SFPucPp",
    "papermill": {
     "duration": 1.316797,
     "end_time": "2024-07-31T01:27:18.497346",
     "exception": false,
     "start_time": "2024-07-31T01:27:17.180549",
     "status": "completed"
    },
    "tags": []
   },
   "outputs": [
    {
     "name": "stderr",
     "output_type": "stream",
     "text": [
      "2024-07-30 18:27:17.311852: I tensorflow/core/util/port.cc:153] oneDNN custom operations are on. You may see slightly different numerical results due to floating-point round-off errors from different computation orders. To turn them off, set the environment variable `TF_ENABLE_ONEDNN_OPTS=0`.\n",
      "2024-07-30 18:27:17.322603: E external/local_xla/xla/stream_executor/cuda/cuda_fft.cc:485] Unable to register cuFFT factory: Attempting to register factory for plugin cuFFT when one has already been registered\n",
      "2024-07-30 18:27:17.333675: E external/local_xla/xla/stream_executor/cuda/cuda_dnn.cc:8454] Unable to register cuDNN factory: Attempting to register factory for plugin cuDNN when one has already been registered\n",
      "2024-07-30 18:27:17.336611: E external/local_xla/xla/stream_executor/cuda/cuda_blas.cc:1452] Unable to register cuBLAS factory: Attempting to register factory for plugin cuBLAS when one has already been registered\n",
      "2024-07-30 18:27:17.344643: I tensorflow/core/platform/cpu_feature_guard.cc:210] This TensorFlow binary is optimized to use available CPU instructions in performance-critical operations.\n",
      "To enable the following instructions: AVX2 AVX_VNNI FMA, in other operations, rebuild TensorFlow with the appropriate compiler flags.\n"
     ]
    },
    {
     "name": "stderr",
     "output_type": "stream",
     "text": [
      "2024-07-30 18:27:17.922798: W tensorflow/compiler/tf2tensorrt/utils/py_utils.cc:38] TF-TRT Warning: Could not find TensorRT\n"
     ]
    }
   ],
   "source": [
    "import tensorflow as tf\n",
    "import os"
   ]
  },
  {
   "cell_type": "code",
   "execution_count": 2,
   "id": "385c917e",
   "metadata": {
    "execution": {
     "iopub.execute_input": "2024-07-31T01:27:18.499913Z",
     "iopub.status.busy": "2024-07-31T01:27:18.499610Z",
     "iopub.status.idle": "2024-07-31T01:27:18.501931Z",
     "shell.execute_reply": "2024-07-31T01:27:18.501689Z"
    },
    "id": "XhzjZ_HSpmJg",
    "papermill": {
     "duration": 0.004192,
     "end_time": "2024-07-31T01:27:18.502633",
     "exception": false,
     "start_time": "2024-07-31T01:27:18.498441",
     "status": "completed"
    },
    "tags": []
   },
   "outputs": [
    {
     "name": "stdout",
     "output_type": "stream",
     "text": [
      "Running Notebook...\n"
     ]
    }
   ],
   "source": [
    "print(\"Running Notebook...\")"
   ]
  },
  {
   "cell_type": "code",
   "execution_count": null,
   "id": "915820c1",
   "metadata": {
    "id": "h_9fzrYQvZz2",
    "papermill": {
     "duration": 0.000587,
     "end_time": "2024-07-31T01:27:18.524902",
     "exception": false,
     "start_time": "2024-07-31T01:27:18.524315",
     "status": "completed"
    },
    "tags": []
   },
   "outputs": [],
   "source": []
  }
 ],
 "metadata": {
  "colab": {
   "provenance": []
  },
  "kernelspec": {
   "display_name": "Python 3",
   "name": "python3"
  },
  "language_info": {
   "codemirror_mode": {
    "name": "ipython",
    "version": 3
   },
   "file_extension": ".py",
   "mimetype": "text/x-python",
   "name": "python",
   "nbconvert_exporter": "python",
   "pygments_lexer": "ipython3",
   "version": "3.12.3"
  },
  "papermill": {
   "default_parameters": {},
   "duration": 2.629373,
   "end_time": "2024-07-31T01:27:19.141030",
   "environment_variables": {},
   "exception": null,
   "input_path": "./../notebooks/Untitled2.ipynb",
   "output_path": "./../notebooks/output/output.ipynb",
   "parameters": {},
   "start_time": "2024-07-31T01:27:16.511657",
   "version": "2.6.0"
  }
 },
 "nbformat": 4,
 "nbformat_minor": 5
}