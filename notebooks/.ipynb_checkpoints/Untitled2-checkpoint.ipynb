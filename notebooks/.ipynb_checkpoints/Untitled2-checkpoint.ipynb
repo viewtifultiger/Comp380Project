{
 "cells": [
  {
   "cell_type": "markdown",
   "metadata": {},
   "source": [
    "glue() records a \"Scrap\" (data or display value) in the given notebook cell.\n",
    "The scrap (recorded value) can be retrieved during later inspection of the output notebook"
   ]
  },
  {
   "cell_type": "code",
   "execution_count": null,
   "metadata": {
    "id": "ZA6N-SFPucPp"
   },
   "outputs": [],
   "source": [
    "import scrapbook as sb\n",
    "\n",
    "sb.glue(\"hello\", \"world\")\n",
    "sb.glue(\"number\", 123)\n",
    "sb.glue(\"some_list\", [1, 3, 5])\n",
    "sb.glue(\"some_dict\", {\"a\": 1, \"b\": 2})"
   ]
  },
  {
   "cell_type": "markdown",
   "metadata": {},
   "source": [
    "The scrapbook library can be used later to recover scraps from the output notebook:\n",
    "\n",
    "nb = sb.read_notebook('notebook.ipynb')\n",
    "scraps = nb.scraps\n",
    "\n",
    "scrapbook will imply the storage format by the value type of any registered data encoders. This encoder can be overwritten by setting the encoder argument to the registered name (e.g. \"json\") of a particular encoder. "
   ]
  },
  {
   "cell_type": "markdown",
   "metadata": {},
   "source": [
    "# Display Outputs\n",
    "\n",
    "To display a named scrap with visible display outputs, you need to indicate that the scrap is directly renderable"
   ]
  },
  {
   "cell_type": "code",
   "execution_count": null,
   "metadata": {},
   "outputs": [],
   "source": [
    "sb.glue(\"hello\", \"Hello World\", display = True)"
   ]
  },
  {
   "cell_type": "markdown",
   "metadata": {},
   "source": [
    "The call will save the data and the display attributes of the Scrap object, making it visible as well as encoding the original data.\n",
    "\n",
    "We can instead specitfy that only the display data should be saved, and not the original object, by setting the ecoder to be \"display\""
   ]
  },
  {
   "cell_type": "code",
   "execution_count": null,
   "metadata": {},
   "outputs": [],
   "source": [
    "# record an image without the original input object\n",
    "\n",
    "import IPython\n",
    "\n",
    "sb.glue(\"sharable_png\", IPython.display.Image(filename = \"test.jpeg\"), encoder = \"display\")"
   ]
  },
  {
   "cell_type": "markdown",
   "metadata": {},
   "source": [
    "The media types that are generated can be controlled by passing a list, tuple, or dict object as the display arguement."
   ]
  },
  {
   "cell_type": "code",
   "execution_count": null,
   "metadata": {},
   "outputs": [],
   "source": [
    "media_obj = \"test.jpeg\"\n",
    "\n",
    "sb.glue(\"media_as_text_only\",\n",
    "        media_obj, \n",
    "        encoder = \"display\", \n",
    "        display=(\"text/plain\",)\n",
    "        )\n",
    "\n",
    "sb.glue(\"media_without_text\",\n",
    "        media_obj,\n",
    "        encoder = \"display\",\n",
    "        display = {\"exclude\" : \"text/plain\"}\n",
    ")\n"
   ]
  },
  {
   "cell_type": "markdown",
   "metadata": {},
   "source": [
    "# An example using display data\n",
    "\n",
    "The following generates a Matplotlib plot and saves only the display data as scrap.\n",
    "This allows you to import the plot into another notebook"
   ]
  },
  {
   "cell_type": "code",
   "execution_count": null,
   "metadata": {},
   "outputs": [],
   "source": [
    "import matplotlib.pyplot as plt\n",
    "\n",
    "# Generate our plot\n",
    "x = 10\n",
    "y = 1\n",
    "fig, ax = plt.subplots()\n",
    "ax.plot(x,y)\n",
    "\n",
    "# We use *fig* as IPython knows how to display this.\n",
    "sb.glue(\"sharable_plot\", fig, \"display\")"
   ]
  },
  {
   "cell_type": "markdown",
   "metadata": {},
   "source": [
    "This glues only the display information. In another notebook, it can be accessed and displayed like so:\n",
    "\n",
    "# To display the image and reglue it\n",
    "nb.reglue('sharable_plot')\n",
    "\n",
    "# To access the display information directly\n",
    "nb.scraps['sharable_plot'].display['data']['image/png']"
   ]
  },
  {
   "cell_type": "code",
   "execution_count": null,
   "metadata": {},
   "outputs": [],
   "source": []
  }
 ],
 "metadata": {
  "colab": {
   "provenance": []
  },
  "kernelspec": {
   "display_name": "Python 3 (ipykernel)",
   "language": "python",
   "name": "python3"
  },
  "language_info": {
   "codemirror_mode": {
    "name": "ipython",
    "version": 3
   },
   "file_extension": ".py",
   "mimetype": "text/x-python",
   "name": "python",
   "nbconvert_exporter": "python",
   "pygments_lexer": "ipython3",
   "version": "3.12.3"
  }
 },
 "nbformat": 4,
 "nbformat_minor": 4
}
